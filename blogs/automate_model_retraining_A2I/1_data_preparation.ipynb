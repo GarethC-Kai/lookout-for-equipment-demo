{
 "cells": [
  {
   "cell_type": "markdown",
   "id": "tracked-rotation",
   "metadata": {},
   "source": [
    "# Data prepartion\n",
    "---\n",
    "In this notebook, we're going to 1/ fetch fetch open source data from https://opendata-renewables.engie.com/ and 2/ preprocess it for for further analysis in the subsequent notebooks.\n",
    "\n",
    "Open source data is made availabble by Engie group and is distributed under Open License version 2.0 published by Etalab.\n",
    "\n",
    "\n",
    "## Step 1: Fetch Data"
   ]
  },
  {
   "cell_type": "code",
   "execution_count": 1,
   "id": "comic-rocket",
   "metadata": {},
   "outputs": [],
   "source": [
    "# declare variables for web scraping the data\n",
    "URL = 'https://opendata-renewables.engie.com'\n",
    "LOCAL_DATA = 'data'\n",
    "URL_DIR = f'{LOCAL_DATA}/web_scrape'\n",
    "\n",
    "# Set target locations in S3\n",
    "BUCKET = 'l4e-demo'\n",
    "PREFIX = 'wind-turbine/training_data'"
   ]
  },
  {
   "cell_type": "code",
   "execution_count": 9,
   "id": "proprietary-wedding",
   "metadata": {},
   "outputs": [],
   "source": [
    "from bs4 import BeautifulSoup\n",
    "import zipfile\n",
    "import pandas as pd\n",
    "\n",
    "from utils import *"
   ]
  },
  {
   "cell_type": "code",
   "execution_count": null,
   "id": "administrative-dodge",
   "metadata": {},
   "outputs": [],
   "source": [
    "# create a wroking directory for web scraping operations\n",
    "!mkdir $LOCAL_DATA\n",
    "!mkdir $URL_DIR\n",
    "\n",
    "# download index.html\n",
    "!wget --output-document=$URL_DIR/index.html $URL\n",
    "\n",
    "# scrape with BS\n",
    "with open(f'{URL_DIR}/index.html') as fp:\n",
    "    soup = BeautifulSoup(fp, \"html.parser\")\n",
    "\n",
    "# get url paths to the raw zipped files\n",
    "data_urls = [URL + x['href'].\\\n",
    "        replace('explore','media'). \\\n",
    "        replace('dataset','datasets'). \\\n",
    "        replace('/information','.zip') \\\n",
    "        for x in list(set([x for x in soup.find_all('a', href=True) if 'dataset' in x['href']]))]\n",
    "\n",
    "# store url paths as a text\n",
    "with open(f'{URL_DIR}/url_list.txt', 'w') as f:\n",
    "    for item in data_urls:\n",
    "        f.write(\"%s\\n\" % item)\n",
    "\n",
    "# download raw zipped data files\n",
    "!wget --input $URL_DIR/url_list.txt --directory-prefix=$URL_DIR/raw_zip"
   ]
  },
  {
   "cell_type": "code",
   "execution_count": null,
   "id": "worth-german",
   "metadata": {},
   "outputs": [],
   "source": [
    "zip_files = !ls $URL_DIR/raw_zip\n",
    "zip_files"
   ]
  },
  {
   "cell_type": "code",
   "execution_count": null,
   "id": "expired-honor",
   "metadata": {},
   "outputs": [],
   "source": [
    "# unzip files\n",
    "for zip_file_ in zip_files:\n",
    "    with zipfile.ZipFile(f'{URL_DIR}/raw_zip/{zip_file_}', 'r') as zip_ref:\n",
    "        zip_ref.extractall(f'{URL_DIR}/raw_unzip')"
   ]
  },
  {
   "cell_type": "code",
   "execution_count": 4,
   "id": "neither-differential",
   "metadata": {},
   "outputs": [
    {
     "data": {
      "text/plain": [
       "['data_description.csv',\n",
       " 'la-haute-borne-data-2013-2016.csv',\n",
       " 'la-haute-borne-data-2017-2020.csv',\n",
       " 'static-information.csv']"
      ]
     },
     "execution_count": 4,
     "metadata": {},
     "output_type": "execute_result"
    }
   ],
   "source": [
    "# print unzipped files names\n",
    "unzipped_files = !ls $URL_DIR/raw_unzip\n",
    "unzipped_files"
   ]
  },
  {
   "cell_type": "markdown",
   "id": "immune-theology",
   "metadata": {},
   "source": [
    "## Step 2: Preprocess data"
   ]
  },
  {
   "cell_type": "code",
   "execution_count": 5,
   "id": "stunning-motion",
   "metadata": {},
   "outputs": [
    {
     "data": {
      "text/plain": [
       "['la-haute-borne-data-2013-2016.csv', 'la-haute-borne-data-2017-2020.csv']"
      ]
     },
     "execution_count": 5,
     "metadata": {},
     "output_type": "execute_result"
    }
   ],
   "source": [
    "data_files = [x for x in unzipped_files if '-data-' in x]\n",
    "data_files"
   ]
  },
  {
   "cell_type": "code",
   "execution_count": 8,
   "id": "buried-evaluation",
   "metadata": {},
   "outputs": [
    {
     "name": "stdout",
     "output_type": "stream",
     "text": [
      "List of turbines in the data: ['R80711' 'R80736' 'R80790' 'R80721']\n"
     ]
    }
   ],
   "source": [
    "# read\n",
    "df_1 = pd.read_csv(f'{URL_DIR}/raw_unzip/{data_files[0]}', delimiter=';')\n",
    "df_2 = pd.read_csv(f'{URL_DIR}/raw_unzip/{data_files[1]}', delimiter=';')\n",
    "df_c = pd.concat([df_1 ,df_2], axis=0)\n",
    "\n",
    "turbines = df_c['Wind_turbine_name'].unique()\n",
    "print(f'List of turbines in the data: {turbines}')"
   ]
  },
  {
   "cell_type": "code",
   "execution_count": 10,
   "id": "mineral-exception",
   "metadata": {},
   "outputs": [
    {
     "name": "stderr",
     "output_type": "stream",
     "text": [
      "/home/ec2-user/SageMaker/lookout-for-equipment-demo/blogs/automate_model_retraining_A2I/utils.py:14: SettingWithCopyWarning: \n",
      "A value is trying to be set on a copy of a slice from a DataFrame.\n",
      "Try using .loc[row_indexer,col_indexer] = value instead\n",
      "\n",
      "See the caveats in the documentation: https://pandas.pydata.org/pandas-docs/stable/user_guide/indexing.html#returning-a-view-versus-a-copy\n",
      "  df['Timestamp'] = pd.to_datetime(df['Date_time'], infer_datetime_format=True, utc=True)\n",
      "/home/ec2-user/SageMaker/lookout-for-equipment-demo/blogs/automate_model_retraining_A2I/utils.py:15: SettingWithCopyWarning: \n",
      "A value is trying to be set on a copy of a slice from a DataFrame\n",
      "\n",
      "See the caveats in the documentation: https://pandas.pydata.org/pandas-docs/stable/user_guide/indexing.html#returning-a-view-versus-a-copy\n",
      "  df.drop_duplicates(subset=['Timestamp'], keep='first', inplace=True)\n",
      "/home/ec2-user/SageMaker/lookout-for-equipment-demo/blogs/automate_model_retraining_A2I/utils.py:14: SettingWithCopyWarning: \n",
      "A value is trying to be set on a copy of a slice from a DataFrame.\n",
      "Try using .loc[row_indexer,col_indexer] = value instead\n",
      "\n",
      "See the caveats in the documentation: https://pandas.pydata.org/pandas-docs/stable/user_guide/indexing.html#returning-a-view-versus-a-copy\n",
      "  df['Timestamp'] = pd.to_datetime(df['Date_time'], infer_datetime_format=True, utc=True)\n",
      "/home/ec2-user/SageMaker/lookout-for-equipment-demo/blogs/automate_model_retraining_A2I/utils.py:15: SettingWithCopyWarning: \n",
      "A value is trying to be set on a copy of a slice from a DataFrame\n",
      "\n",
      "See the caveats in the documentation: https://pandas.pydata.org/pandas-docs/stable/user_guide/indexing.html#returning-a-view-versus-a-copy\n",
      "  df.drop_duplicates(subset=['Timestamp'], keep='first', inplace=True)\n",
      "/home/ec2-user/SageMaker/lookout-for-equipment-demo/blogs/automate_model_retraining_A2I/utils.py:14: SettingWithCopyWarning: \n",
      "A value is trying to be set on a copy of a slice from a DataFrame.\n",
      "Try using .loc[row_indexer,col_indexer] = value instead\n",
      "\n",
      "See the caveats in the documentation: https://pandas.pydata.org/pandas-docs/stable/user_guide/indexing.html#returning-a-view-versus-a-copy\n",
      "  df['Timestamp'] = pd.to_datetime(df['Date_time'], infer_datetime_format=True, utc=True)\n",
      "/home/ec2-user/SageMaker/lookout-for-equipment-demo/blogs/automate_model_retraining_A2I/utils.py:15: SettingWithCopyWarning: \n",
      "A value is trying to be set on a copy of a slice from a DataFrame\n",
      "\n",
      "See the caveats in the documentation: https://pandas.pydata.org/pandas-docs/stable/user_guide/indexing.html#returning-a-view-versus-a-copy\n",
      "  df.drop_duplicates(subset=['Timestamp'], keep='first', inplace=True)\n",
      "/home/ec2-user/SageMaker/lookout-for-equipment-demo/blogs/automate_model_retraining_A2I/utils.py:14: SettingWithCopyWarning: \n",
      "A value is trying to be set on a copy of a slice from a DataFrame.\n",
      "Try using .loc[row_indexer,col_indexer] = value instead\n",
      "\n",
      "See the caveats in the documentation: https://pandas.pydata.org/pandas-docs/stable/user_guide/indexing.html#returning-a-view-versus-a-copy\n",
      "  df['Timestamp'] = pd.to_datetime(df['Date_time'], infer_datetime_format=True, utc=True)\n",
      "/home/ec2-user/SageMaker/lookout-for-equipment-demo/blogs/automate_model_retraining_A2I/utils.py:15: SettingWithCopyWarning: \n",
      "A value is trying to be set on a copy of a slice from a DataFrame\n",
      "\n",
      "See the caveats in the documentation: https://pandas.pydata.org/pandas-docs/stable/user_guide/indexing.html#returning-a-view-versus-a-copy\n",
      "  df.drop_duplicates(subset=['Timestamp'], keep='first', inplace=True)\n"
     ]
    }
   ],
   "source": [
    "for turbine in turbines:\n",
    "    df_raw = df_c.loc[df_c['Wind_turbine_name'] == turbine,:]\n",
    "    df_clean = clean_up_data(df_raw)\n",
    "    df_description = pd.read_csv(f'{URL_DIR}/raw_unzip/data_description.csv', delimiter=';')\n",
    "    df_ord = order_columns(df_clean, df_description)\n",
    "    df_ord.to_csv(f's3://{BUCKET}/{PREFIX}/{turbine}/{turbine}.csv')"
   ]
  },
  {
   "cell_type": "code",
   "execution_count": null,
   "id": "fixed-castle",
   "metadata": {},
   "outputs": [],
   "source": []
  }
 ],
 "metadata": {
  "kernelspec": {
   "display_name": "conda_python3",
   "language": "python",
   "name": "conda_python3"
  },
  "language_info": {
   "codemirror_mode": {
    "name": "ipython",
    "version": 3
   },
   "file_extension": ".py",
   "mimetype": "text/x-python",
   "name": "python",
   "nbconvert_exporter": "python",
   "pygments_lexer": "ipython3",
   "version": "3.6.13"
  }
 },
 "nbformat": 4,
 "nbformat_minor": 5
}
