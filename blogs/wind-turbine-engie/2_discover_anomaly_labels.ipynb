{
 "cells": [
  {
   "cell_type": "markdown",
   "id": "spanish-motor",
   "metadata": {},
   "source": [
    "# Analyze unlabelled telemetry data and discover abnormal machine behaviors\n",
    "---\n",
    "\n",
    "One of the biggest challenges our customers face is they do not have enough high quality data on the times when their equipment behaved abnoramally. Lack of this data has a negative impact on the performance of Amazon Lookout for Equipment. In this notebook, we'll address this issue head on and present an automated workflow for analyzing machine telemetry data to discover historical anomalies which improves the performance metrics across the board of Amazon Lookout for Equipment.\n",
    "\n",
    "**Workflow:**\n",
    "1. Analyze missing data\n",
    "2. Analyze trends and seasonality\n",
    "3. Feature preprocessing and selection\n",
    "4. Feature engineering\n",
    "5. Dimensionality reduction and clustering\n",
    "6. Hypothesis setting and testing\n",
    "7. Generating historical anomaly labels"
   ]
  },
  {
   "cell_type": "code",
   "execution_count": null,
   "id": "treated-present",
   "metadata": {},
   "outputs": [],
   "source": []
  }
 ],
 "metadata": {
  "kernelspec": {
   "display_name": "conda_python3",
   "language": "python",
   "name": "conda_python3"
  },
  "language_info": {
   "codemirror_mode": {
    "name": "ipython",
    "version": 3
   },
   "file_extension": ".py",
   "mimetype": "text/x-python",
   "name": "python",
   "nbconvert_exporter": "python",
   "pygments_lexer": "ipython3",
   "version": "3.6.13"
  }
 },
 "nbformat": 4,
 "nbformat_minor": 5
}
